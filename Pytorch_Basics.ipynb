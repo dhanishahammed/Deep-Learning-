{
  "nbformat": 4,
  "nbformat_minor": 0,
  "metadata": {
    "colab": {
      "provenance": []
    },
    "kernelspec": {
      "name": "python3",
      "display_name": "Python 3"
    },
    "language_info": {
      "name": "python"
    }
  },
  "cells": [
    {
      "cell_type": "code",
      "execution_count": null,
      "metadata": {
        "id": "zLOeug7upRjZ"
      },
      "outputs": [],
      "source": [
        "import torch\n",
        "import random"
      ]
    },
    {
      "cell_type": "code",
      "source": [
        "a = torch.tensor(4)\n",
        "a"
      ],
      "metadata": {
        "colab": {
          "base_uri": "https://localhost:8080/"
        },
        "id": "pCpKytdomVIu",
        "outputId": "21557b9c-1d16-4f94-984a-1039ee814b97"
      },
      "execution_count": null,
      "outputs": [
        {
          "output_type": "execute_result",
          "data": {
            "text/plain": [
              "tensor(4)"
            ]
          },
          "metadata": {},
          "execution_count": 8
        }
      ]
    },
    {
      "cell_type": "code",
      "source": [
        "a.ndim"
      ],
      "metadata": {
        "colab": {
          "base_uri": "https://localhost:8080/"
        },
        "id": "6SM8lcWcmY-F",
        "outputId": "61df9afd-1d91-4d21-eb35-8916804ca83b"
      },
      "execution_count": null,
      "outputs": [
        {
          "output_type": "execute_result",
          "data": {
            "text/plain": [
              "0"
            ]
          },
          "metadata": {},
          "execution_count": 9
        }
      ]
    },
    {
      "cell_type": "code",
      "source": [
        "a.item()"
      ],
      "metadata": {
        "colab": {
          "base_uri": "https://localhost:8080/"
        },
        "id": "hKESTL6tmasv",
        "outputId": "a0be4a53-ffe6-4b38-e611-f7aa9e2e6d20"
      },
      "execution_count": null,
      "outputs": [
        {
          "output_type": "execute_result",
          "data": {
            "text/plain": [
              "4"
            ]
          },
          "metadata": {},
          "execution_count": 11
        }
      ]
    },
    {
      "cell_type": "code",
      "source": [
        "b = torch.tensor([1,2])\n",
        "b"
      ],
      "metadata": {
        "colab": {
          "base_uri": "https://localhost:8080/"
        },
        "id": "7gzMCxnGmjmK",
        "outputId": "b1fd874e-f5dd-4bc8-e677-ae4f9e94b45d"
      },
      "execution_count": null,
      "outputs": [
        {
          "output_type": "execute_result",
          "data": {
            "text/plain": [
              "tensor([1, 2])"
            ]
          },
          "metadata": {},
          "execution_count": 12
        }
      ]
    },
    {
      "cell_type": "code",
      "source": [
        "b.ndim"
      ],
      "metadata": {
        "colab": {
          "base_uri": "https://localhost:8080/"
        },
        "id": "T6YogrNumoIo",
        "outputId": "69d207f3-302f-4514-ba2b-93c684705fcb"
      },
      "execution_count": null,
      "outputs": [
        {
          "output_type": "execute_result",
          "data": {
            "text/plain": [
              "1"
            ]
          },
          "metadata": {},
          "execution_count": 13
        }
      ]
    },
    {
      "cell_type": "code",
      "source": [
        "b.shape"
      ],
      "metadata": {
        "colab": {
          "base_uri": "https://localhost:8080/"
        },
        "id": "ZuuhQWLLmpwL",
        "outputId": "53a4006c-40cb-4bbd-e538-13841ab0b094"
      },
      "execution_count": null,
      "outputs": [
        {
          "output_type": "execute_result",
          "data": {
            "text/plain": [
              "torch.Size([2])"
            ]
          },
          "metadata": {},
          "execution_count": 18
        }
      ]
    },
    {
      "cell_type": "code",
      "source": [
        "c = torch.tensor([[1,2], [3,4]])\n",
        "c"
      ],
      "metadata": {
        "colab": {
          "base_uri": "https://localhost:8080/"
        },
        "id": "wS6VVMjim3F3",
        "outputId": "b8c1298b-47fb-4e99-d9f9-82d91d2082a7"
      },
      "execution_count": null,
      "outputs": [
        {
          "output_type": "execute_result",
          "data": {
            "text/plain": [
              "tensor([[1, 2],\n",
              "        [3, 4]])"
            ]
          },
          "metadata": {},
          "execution_count": 20
        }
      ]
    },
    {
      "cell_type": "code",
      "source": [
        "c.ndim, c.shape"
      ],
      "metadata": {
        "colab": {
          "base_uri": "https://localhost:8080/"
        },
        "id": "NlCFRQkCnFs_",
        "outputId": "72fb1f95-f851-41fd-e26e-aac3f08f1aa1"
      },
      "execution_count": null,
      "outputs": [
        {
          "output_type": "execute_result",
          "data": {
            "text/plain": [
              "(2, torch.Size([2, 2]))"
            ]
          },
          "metadata": {},
          "execution_count": 22
        }
      ]
    },
    {
      "cell_type": "code",
      "source": [
        "x = torch.tensor([1.0, 2.0, 3.0])\n",
        "print(\"ID Tensor: \\n\", x)\n",
        "\n",
        "y = torch.zeros(3,3)\n",
        "print(\"2D Tensor: \\n\", y)"
      ],
      "metadata": {
        "colab": {
          "base_uri": "https://localhost:8080/"
        },
        "id": "-BM5FlUapdE9",
        "outputId": "2f887fc9-0012-49ae-9d2c-0df3764bc893"
      },
      "execution_count": null,
      "outputs": [
        {
          "output_type": "stream",
          "name": "stdout",
          "text": [
            "ID Tensor: \n",
            " tensor([1., 2., 3.])\n",
            "2D Tensor: \n",
            " tensor([[0., 0., 0.],\n",
            "        [0., 0., 0.],\n",
            "        [0., 0., 0.]])\n"
          ]
        }
      ]
    },
    {
      "cell_type": "code",
      "source": [
        "random_tensor = torch.rand(size=(3, 4))\n",
        "random_tensor, random_tensor.dtype"
      ],
      "metadata": {
        "colab": {
          "base_uri": "https://localhost:8080/"
        },
        "id": "Xvk9WLZZl9Vp",
        "outputId": "1910c2d5-8bcd-41b4-fcb7-e1d8cffddcc3"
      },
      "execution_count": null,
      "outputs": [
        {
          "output_type": "execute_result",
          "data": {
            "text/plain": [
              "(tensor([[0.9895, 0.4062, 0.4686, 0.5364],\n",
              "         [0.7311, 0.1844, 0.4096, 0.1440],\n",
              "         [0.7523, 0.7895, 0.4240, 0.9371]]),\n",
              " torch.float32)"
            ]
          },
          "metadata": {},
          "execution_count": 5
        }
      ]
    },
    {
      "cell_type": "code",
      "source": [
        "zeros = torch.zeros(size=(3, 4))\n",
        "zeros"
      ],
      "metadata": {
        "colab": {
          "base_uri": "https://localhost:8080/"
        },
        "id": "kJdOO8UzmFlg",
        "outputId": "538972de-0d6c-4fa0-aa38-dfbd7bac1cdd"
      },
      "execution_count": null,
      "outputs": [
        {
          "output_type": "execute_result",
          "data": {
            "text/plain": [
              "tensor([[0., 0., 0., 0.],\n",
              "        [0., 0., 0., 0.],\n",
              "        [0., 0., 0., 0.]])"
            ]
          },
          "metadata": {},
          "execution_count": 6
        }
      ]
    },
    {
      "cell_type": "code",
      "source": [
        "ones = torch.ones((3,4))\n",
        "ones"
      ],
      "metadata": {
        "colab": {
          "base_uri": "https://localhost:8080/"
        },
        "id": "DsDQ5JjTnQKf",
        "outputId": "bbf2322d-cafa-4c71-c06c-abd855524874"
      },
      "execution_count": null,
      "outputs": [
        {
          "output_type": "execute_result",
          "data": {
            "text/plain": [
              "tensor([[1., 1., 1., 1.],\n",
              "        [1., 1., 1., 1.],\n",
              "        [1., 1., 1., 1.]])"
            ]
          },
          "metadata": {},
          "execution_count": 23
        }
      ]
    },
    {
      "cell_type": "code",
      "source": [
        "x=torch.arange(0,10)\n",
        "x"
      ],
      "metadata": {
        "colab": {
          "base_uri": "https://localhost:8080/"
        },
        "id": "ZDECjjGHmO4k",
        "outputId": "a0b1b1a9-2027-41cd-965b-6806f8b27475"
      },
      "execution_count": null,
      "outputs": [
        {
          "output_type": "execute_result",
          "data": {
            "text/plain": [
              "tensor([0, 1, 2, 3, 4, 5, 6, 7, 8, 9])"
            ]
          },
          "metadata": {},
          "execution_count": 7
        }
      ]
    },
    {
      "cell_type": "code",
      "source": [
        "y = torch.zeros_like(x)\n",
        "y"
      ],
      "metadata": {
        "colab": {
          "base_uri": "https://localhost:8080/"
        },
        "id": "vxG2D2DhnUoj",
        "outputId": "55b71c01-616d-430e-a2dd-42271adea346"
      },
      "execution_count": null,
      "outputs": [
        {
          "output_type": "execute_result",
          "data": {
            "text/plain": [
              "tensor([0, 0, 0, 0, 0, 0, 0, 0, 0, 0])"
            ]
          },
          "metadata": {},
          "execution_count": 24
        }
      ]
    },
    {
      "cell_type": "code",
      "source": [
        "a = torch.tensor([9,8,7])\n",
        "a+10"
      ],
      "metadata": {
        "colab": {
          "base_uri": "https://localhost:8080/"
        },
        "id": "38D5qGh8njrX",
        "outputId": "0d2b7412-52a1-4668-d9f8-2f8d632f0a70"
      },
      "execution_count": null,
      "outputs": [
        {
          "output_type": "execute_result",
          "data": {
            "text/plain": [
              "tensor([19, 18, 17])"
            ]
          },
          "metadata": {},
          "execution_count": 25
        }
      ]
    },
    {
      "cell_type": "code",
      "source": [
        "a*10"
      ],
      "metadata": {
        "colab": {
          "base_uri": "https://localhost:8080/"
        },
        "id": "pipsyLkOnqrP",
        "outputId": "d093a202-60b9-4a5f-e80b-d0a1769faa06"
      },
      "execution_count": null,
      "outputs": [
        {
          "output_type": "execute_result",
          "data": {
            "text/plain": [
              "tensor([90, 80, 70])"
            ]
          },
          "metadata": {},
          "execution_count": 26
        }
      ]
    },
    {
      "cell_type": "code",
      "source": [
        "a*a"
      ],
      "metadata": {
        "colab": {
          "base_uri": "https://localhost:8080/"
        },
        "id": "Ga8xHg7Mnr99",
        "outputId": "633d0dfe-cc85-44a8-c5a5-ccd0175e2cb6"
      },
      "execution_count": null,
      "outputs": [
        {
          "output_type": "execute_result",
          "data": {
            "text/plain": [
              "tensor([81, 64, 49])"
            ]
          },
          "metadata": {},
          "execution_count": 27
        }
      ]
    },
    {
      "cell_type": "code",
      "source": [
        "a**2"
      ],
      "metadata": {
        "colab": {
          "base_uri": "https://localhost:8080/"
        },
        "id": "zG8sZiprntZG",
        "outputId": "b6bcf0c7-d881-47bd-8e2a-086b9feca581"
      },
      "execution_count": null,
      "outputs": [
        {
          "output_type": "execute_result",
          "data": {
            "text/plain": [
              "tensor([81, 64, 49])"
            ]
          },
          "metadata": {},
          "execution_count": 28
        }
      ]
    },
    {
      "cell_type": "code",
      "source": [
        "a/2"
      ],
      "metadata": {
        "id": "nyrnnL3ZnvFi",
        "outputId": "267d0e64-be8f-44b8-fc5e-237be12f9794",
        "colab": {
          "base_uri": "https://localhost:8080/"
        }
      },
      "execution_count": null,
      "outputs": [
        {
          "output_type": "execute_result",
          "data": {
            "text/plain": [
              "tensor([4.5000, 4.0000, 3.5000])"
            ]
          },
          "metadata": {},
          "execution_count": 30
        }
      ]
    },
    {
      "cell_type": "code",
      "source": [
        "a = torch.tensor([1.0, 2.0])\n",
        "b = torch.tensor([3.0, 4.0])\n",
        "\n",
        "print(\"Elemantwise addition of a and b: \\n\", a+b)\n",
        "\n",
        "print('matrix multiplication of a and b:\\n ', torch.matmul(a.view(2,1), b.view(1,2)))"
      ],
      "metadata": {
        "colab": {
          "base_uri": "https://localhost:8080/"
        },
        "id": "wOFposs3pova",
        "outputId": "c993bf59-414d-4efd-8f9d-0c3b909ddf6c"
      },
      "execution_count": null,
      "outputs": [
        {
          "output_type": "stream",
          "name": "stdout",
          "text": [
            "Elemantwise addition of a and b: \n",
            " tensor([4., 6.])\n",
            "matrix multiplication of a and b:\n",
            "  tensor([[3., 4.],\n",
            "        [6., 8.]])\n"
          ]
        }
      ]
    },
    {
      "cell_type": "code",
      "source": [
        "t = torch.tensor([[1,2,3,4],\n",
        "                  [5,6,7,8],\n",
        "                  [9,10,11,12]])\n",
        "\n",
        "print(\"Reshaping: \\n\", t.reshape(6,2))"
      ],
      "metadata": {
        "colab": {
          "base_uri": "https://localhost:8080/"
        },
        "id": "UUkHVAOcqF8C",
        "outputId": "959f5ee1-e8d7-4f36-9cdc-edf18ce75891"
      },
      "execution_count": null,
      "outputs": [
        {
          "output_type": "stream",
          "name": "stdout",
          "text": [
            "Reshaping: \n",
            " tensor([[ 1,  2],\n",
            "        [ 3,  4],\n",
            "        [ 5,  6],\n",
            "        [ 7,  8],\n",
            "        [ 9, 10],\n",
            "        [11, 12]])\n"
          ]
        }
      ]
    },
    {
      "cell_type": "code",
      "source": [
        "print(\"Resizing:\\n \", t.view(2,6))"
      ],
      "metadata": {
        "colab": {
          "base_uri": "https://localhost:8080/"
        },
        "id": "6VGoZ3pUq85n",
        "outputId": "89d01636-47c3-467c-e11a-621301cd3288"
      },
      "execution_count": null,
      "outputs": [
        {
          "output_type": "stream",
          "name": "stdout",
          "text": [
            "Resizing:\n",
            "  tensor([[ 1,  2,  3,  4,  5,  6],\n",
            "        [ 7,  8,  9, 10, 11, 12]])\n"
          ]
        }
      ]
    },
    {
      "cell_type": "code",
      "source": [
        "print(\"Transposing:\\n \", t.transpose(0,1))"
      ],
      "metadata": {
        "colab": {
          "base_uri": "https://localhost:8080/"
        },
        "id": "XCQk6VhHsDBX",
        "outputId": "750f9394-22c8-4242-df68-8b3f26e37d47"
      },
      "execution_count": null,
      "outputs": [
        {
          "output_type": "stream",
          "name": "stdout",
          "text": [
            "Transposing:\n",
            "  tensor([[ 1,  5,  9],\n",
            "        [ 2,  6, 10],\n",
            "        [ 3,  7, 11],\n",
            "        [ 4,  8, 12]])\n"
          ]
        }
      ]
    },
    {
      "cell_type": "markdown",
      "source": [
        "#Building neural networks in pytoch"
      ],
      "metadata": {
        "id": "yOOFjqnBwTRW"
      }
    },
    {
      "cell_type": "code",
      "source": [
        "import torch\n",
        "import torch.nn as nn # To define neural network layers and models\n",
        "import torch.optim as optim # Optimizer for training(like SGD, Adam etc)"
      ],
      "metadata": {
        "id": "UThWE-CJ1zvb"
      },
      "execution_count": null,
      "outputs": []
    },
    {
      "cell_type": "code",
      "source": [
        "class NeuralNetwork(nn.Module):\n",
        "  def __init__(self):\n",
        "    super(NeuralNetwork, self).__init__()\n",
        "    self.fc1 = nn.Linear(10,16) # first layer\n",
        "    self.fc2 = nn.Linear(16,8)  # 2nd layer\n",
        "    self.fc3 = nn.Linear(8,1)   # 3rd layer\n",
        "\n",
        "  def forward(self, x):\n",
        "    x = torch.relu(self.fc1(x))\n",
        "    x = torch.relu(self.fc2(x))\n",
        "    x = torch.sigmoid(self.fc3(x))\n",
        "    return x\n",
        "\n",
        "#Model setup\n",
        "model = NeuralNetwork()\n",
        "print(\"Model: \\n\", model)\n",
        "\n",
        "#Loss and Optimizer\n",
        "criterion = nn.BCELoss()\n",
        "optimizer = torch.optim.Adam(model.parameters(),lr = 0.01)\n",
        "\n",
        "inputs = torch.randn((100,10))\n",
        "targets = torch.randint(0,2,(100,1)).float()\n",
        "epochs = 20\n",
        "\n",
        "for epoch in range(epochs):\n",
        "  optimizer.zero_grad()   #clear old gradients\n",
        "  outputs = model(inputs)\n",
        "  loss = criterion(outputs, targets)  # compute loss between prediction and target\n",
        "  loss.backward()   # Backward pass: Computes gradient of loss w.r.t. weight.\n",
        "  optimizer.step()  # Update weight to reduce the loss\n",
        "\n",
        "  if (epoch+1) % 5 == 0:\n",
        "    print(f\"Epoch [{epoch+1}/{epochs}], Loss: {loss.item():.4f}\")\n"
      ],
      "metadata": {
        "colab": {
          "base_uri": "https://localhost:8080/"
        },
        "id": "t5mbbTjAsRGp",
        "outputId": "144025b4-f1eb-4b0a-8c08-015d9f9d18e1"
      },
      "execution_count": null,
      "outputs": [
        {
          "output_type": "stream",
          "name": "stdout",
          "text": [
            "Model: \n",
            " NeuralNetwork(\n",
            "  (fc1): Linear(in_features=10, out_features=16, bias=True)\n",
            "  (fc2): Linear(in_features=16, out_features=8, bias=True)\n",
            "  (fc3): Linear(in_features=8, out_features=1, bias=True)\n",
            ")\n",
            "Epoch [5/20], Loss: 0.6791\n",
            "Epoch [10/20], Loss: 0.6577\n",
            "Epoch [15/20], Loss: 0.6250\n",
            "Epoch [20/20], Loss: 0.5828\n"
          ]
        }
      ]
    },
    {
      "cell_type": "code",
      "source": [
        "class SimpleNet(nn.Module):\n",
        "  def __init__(self):\n",
        "    super(SimpleNet, self).__init__()\n",
        "    self.weight = nn.Parameter(torch.randn(1, requires_grad = True))\n",
        "\n",
        "  def forward(self, x):\n",
        "    return x * self.weight\n",
        "\n",
        "model = SimpleNet()\n",
        "print(\"Initial model parameters: \", list(model.parameters()))\n",
        "\n",
        "criterion = nn.MSELoss()\n",
        "optimizer = optim.SGD(model.parameters(), lr=0.01)\n",
        "\n",
        "input_tensor = torch.tensor([2.0])\n",
        "target_tensor = torch.tensor([4.0])\n",
        "\n",
        "for epoch in range(100):\n",
        "  optimizer.zero_grad\n",
        "  output = model(input_tensor)\n",
        "  loss = criterion(output, target_tensor)\n",
        "  loss.backward()  .\n",
        "  optimizer.step()\n",
        "\n",
        "  if epoch % 10 == 0:\n",
        "    print(f\"Epoch {epoch}, Loss: {loss.item()}, weght: {model.weight.item()}\")\n",
        "\n",
        "print(\"Final Model Parameters: \", list(model.parameters()))\n"
      ],
      "metadata": {
        "colab": {
          "base_uri": "https://localhost:8080/"
        },
        "id": "ZwVMACWwtbaj",
        "outputId": "6e5569b0-5765-4c27-b2fc-4a9357e65701"
      },
      "execution_count": null,
      "outputs": [
        {
          "output_type": "stream",
          "name": "stdout",
          "text": [
            "Initial model parameters:  [Parameter containing:\n",
            "tensor([0.1260], requires_grad=True)]\n",
            "Epoch 0, Loss: 14.047266006469727, weght: 0.27593469619750977\n",
            "Epoch 10, Loss: 13.962164878845215, weght: 3.8789305686950684\n",
            "Epoch 20, Loss: 11.446969032287598, weght: 0.13812261819839478\n",
            "Epoch 30, Loss: 7.4011616706848145, weght: 3.674466371536255\n",
            "Epoch 40, Loss: 3.2716012001037598, weght: 0.6661550998687744\n",
            "Epoch 50, Loss: 0.5351043343544006, weght: 2.8711793422698975\n",
            "Epoch 60, Loss: 0.17029821872711182, weght: 1.6711976528167725\n",
            "Epoch 70, Loss: 2.307645797729492, weght: 1.7563406229019165\n",
            "Epoch 80, Loss: 6.182787895202637, weght: 2.7938265800476074\n",
            "Epoch 90, Loss: 10.409893035888672, weght: 0.7286398410797119\n",
            "Final Model Parameters:  [Parameter containing:\n",
            "tensor([3.8356], requires_grad=True)]\n"
          ]
        }
      ]
    }
  ]
}